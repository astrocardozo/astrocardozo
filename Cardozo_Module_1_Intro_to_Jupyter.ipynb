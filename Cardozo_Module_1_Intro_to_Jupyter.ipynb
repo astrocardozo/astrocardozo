{
  "cells": [
    {
      "cell_type": "markdown",
      "metadata": {
        "colab_type": "text",
        "id": "view-in-github"
      },
      "source": [
        "<a href=\"https://colab.research.google.com/github/astrocardozo/astrocardozo/blob/main/Cardozo_Module_1_Intro_to_Jupyter.ipynb\" target=\"_parent\"><img src=\"https://colab.research.google.com/assets/colab-badge.svg\" alt=\"Open In Colab\"/></a>"
      ]
    },
    {
      "cell_type": "markdown",
      "metadata": {
        "id": "wGDHuIvRj-Pb"
      },
      "source": [
        "# Why computation?\n",
        "\n",
        "Each module in this program is hosted in a **Jupyter notebook** on Google Colab. Jupyter is an environment where you can write scientific content and run snippets of computer code in the Python programming language.\n",
        "\n",
        "There are many reasons for using computation in a physics learning environment. (See, for example, [*Isn't This Physics and Not Computer Science?*](https://www.wired.com/2014/02/isnt-physics-computer-science/) and [*You Should Be Coding in Your Physics Course*](https://www.wired.com/2015/08/coding-physics-course/).) For example, computational skills are in high demand in STEM careers:\n",
        "\n",
        "![picture](https://drive.google.com/uc?id=1nw-f6Tg-DvK0rQv-1wKLrx18sQP3_uzf)\n",
        "\n",
        "Therefore, incorporating computation into the STEM classroom makes the learning experience more authentic to STEM practices. \n",
        "\n",
        "Computation eases the mathematical challenges that intimidate many students and enables students to study problems that are otherwise mathematically insolvable. Additionally, computation leads directly to engaging visualizations.\n",
        "\n",
        "All of these reasons appeal to our integration of quantum concepts in the high school context: A primary application of quantum concepts is quantum computing; computation will allow students to \"cut to the chase\" of the science principles; and we'll focus on developing visualizations that students can use to make sense of the concepts.\n",
        "\n",
        "The purpose of this module is to orient you to **a few fundamental processes** in programming with Python, which we'll use throughout these modules.\n",
        "\n",
        "**Create a copy of this notebook** by clicking on File, then Save a copy in Drive. You'll be able to edit your copy like an interactive worksheet!"
      ]
    },
    {
      "cell_type": "markdown",
      "metadata": {
        "id": "YdJCVeK1q4CP"
      },
      "source": [
        "# Jupyter uses text cells and code cells.\n",
        "\n",
        "The first thing to learn is that Jupyter is set up in terms of **cells**. This is a **text cell**. Double click on this text to open the editing panel. Replace the square brackets below with your name and one sentence about your experience with programming. (\"I have no such experience\" is an acceptable answer!) Pres Esc when you're finished.\n",
        "\n",
        "[]\n",
        "\n",
        "The next cell is a **code cell**, where we run Python code snippets. This code cell includes a command to show a YouTube video right here in the Module! Click inside the code cell and you can run the code by either pressing the play button on the left or by pressing Ctrl+Enter on your keyboard. Then, watch the video as it guides you through this Module!"
      ]
    },
    {
      "cell_type": "code",
      "execution_count": null,
      "metadata": {
        "colab": {
          "base_uri": "https://localhost:8080/",
          "height": 321
        },
        "id": "Rc0Z9wbaXiJB",
        "outputId": "5bb25974-d963-4546-e331-03440173920d"
      },
      "outputs": [
        {
          "data": {
            "image/jpeg": "[encoded data removed]",
            "text/html": [
              "\n",
              "        <iframe\n",
              "            width=\"400\"\n",
              "            height=\"300\"\n",
              "            src=\"https://www.youtube.com/embed/vYJy_H8keVI\"\n",
              "            frameborder=\"0\"\n",
              "            allowfullscreen\n",
              "        ></iframe>\n",
              "        "
            ],
            "text/plain": [
              "<IPython.lib.display.YouTubeVideo at 0x7f1b612b31d0>"
            ]
          },
          "execution_count": 1,
          "metadata": {},
          "output_type": "execute_result"
        }
      ],
      "source": [
        "from IPython.display import YouTubeVideo\n",
        "YouTubeVideo('vYJy_H8keVI')"
      ]
    },
    {
      "cell_type": "markdown",
      "metadata": {
        "id": "ftXDOQ6fXV-Y"
      },
      "source": [
        "# Python can calculate for you.\n",
        "This next section will help you begin to learn how to carry out basic calculations using the Python programming language. Because these calculations are being carried out by a computer (instead of by a human), we sometimes call them **computations**, instead. When we use lots of computations in sequence to study a physics problem, we call it **computational physics** (as opposed to theoretical or experimental physics).\n",
        "\n",
        "This tutorial is written in a **Jupyter notebook**, which is a document where you can construct and run Python code. Your instructor might direct you to complete these activities in a simpler Python editor instead; all the code works the same regardless of the platform.\n",
        "\n",
        "Let's start with some basic operations: Python knows how to add, subtract, multiply, and divide, just like you've probably seen in a graphing calculator. You can think of Python as being the next step up from a graphing calculator, just like a grpahing calculator was from a basic calculator.\n",
        "\n",
        "The code cell below is set up to carry out some basic computations. The code's actions are described in **comments**; any text that begins with a ``#`` symbol is a comment that Python will ignore, allowing us to add text that we can read as a reference. "
      ]
    },
    {
      "cell_type": "code",
      "execution_count": null,
      "metadata": {
        "id": "S3l-CwMzXV-c"
      },
      "outputs": [],
      "source": [
        "# Press the Run button above to run this cell and see what it does.\n",
        "# You can also run a cell by clicking inside it and pressing Ctrl + Enter.\n",
        "\n",
        "# Each of the following lines includes the print command. \n",
        "# We use print to tell Python to show the answer on screen.\n",
        "print( 3 + 2 )\n",
        "print( 3 - 2 )\n",
        "print( 3 * 2 + 2 )\n",
        "print( 3 / 2 + 2 )\n",
        "\n",
        "# Notice that Python carries out this cell in order, line by line.\n",
        "# For example, the following would print the numbers 1 through 5, in\n",
        "# order, after a banner of equals signs.\n",
        "print('=====')\n",
        "print(1)\n",
        "print(2)\n",
        "print(3)\n",
        "print(4)\n",
        "print(5)"
      ]
    },
    {
      "cell_type": "markdown",
      "metadata": {
        "id": "tuq7AfmSXV-e"
      },
      "source": [
        "## Checkpoint: You try.\n",
        "Click inside the code cell above and change some of the computations inside the print commands. You can carry out any combination of ``+`` ``-`` ``*`` or ``/``. You can also use parentheses to group numbers, just like you would in a graphing calculator. Notice that you can add spaces between numbers and symbols as you like to make the code more readable; Python will ignore the spaces, so it makes no difference in terms of the output.\n",
        "\n",
        "Carry out a few different computations, and test whether Python obeys order of operations. How can you tell?\n",
        "\n",
        "Yes.\n",
        "\n",
        "If you ever get lost in your computations (\"Which command is printing which item?\"), you can always add more print statements with text to help you find your way. Just enter ``print('the text you want')`` with those single quotation marks around the text you want on the screen.\n",
        "\n",
        "How is this process similar to using a graphing calculator? What advantages do you see in using code instead of a graphing calculator?"
      ]
    },
    {
      "cell_type": "markdown",
      "metadata": {
        "id": "CUBx-arkXV-q"
      },
      "source": [
        "## Variables help you store information.\n",
        "In Python, variables work exactly like they do in your math class: They're a stand-in for a numerical value, and we can carry out mathematical calculations with them. The difference is that we aren't \"solving\" for these variables; we know what their numerical values are. **We just don't want to have to rewrite the same value repeatedly.** \n",
        "\n",
        "Let's see an example: Suppose you wanted to see different powers of $2$: $2^1, 2^2, 2^3, 2^4, \\ldots$. You *could* write a code like this:\n",
        "\n",
        "`print( 2 )`\n",
        "\n",
        "`print( 2*2 )`\n",
        "\n",
        "`print( 2*2*2 )`\n",
        "\n",
        "`print( 2*2*2*2 )`\n",
        "\n",
        "but you'd have a lot of editing to do when the next day you realize you also need powers of $3$, then $4$, then $5$... Variables allow you to streamline the process. The next code cell carries out this same process using variables. Run the code cell to see how."
      ]
    },
    {
      "cell_type": "code",
      "execution_count": null,
      "metadata": {
        "id": "AAOR7tkNXV-r"
      },
      "outputs": [],
      "source": [
        "# Take the number we want to work with and store it\n",
        "# under the name a.\n",
        "a = 2\n",
        "\n",
        "print( a )\n",
        "print( a * a )\n",
        "print( a * a * a )\n",
        "print( a * a * a * a )"
      ]
    },
    {
      "cell_type": "markdown",
      "metadata": {
        "id": "lv0obBXBXV-0"
      },
      "source": [
        "## Checkpoint\n",
        "\n",
        "Describe what the code cell above is doing.\n",
        "\n",
        "Edit the code cell above and change ``a`` to 3. This just involves changing Line 3 to ``a = 3``. Then rerun the code cell above. How does the output change? How does the **process** in the cell stay the same? Try again with an ``a`` of 4 and 5. Then try an ``a`` of 1.5, 2.5, and 3.5. How is your ``a`` variable useful?"
      ]
    },
    {
      "cell_type": "markdown",
      "metadata": {
        "id": "ylMACkTgXV-3"
      },
      "source": [
        "## You can progressively change a variable's value.\n",
        "The code cell above sets a value for ``a`` and then uses that value, but we often **change** a variable's value. For example, if we were to write\n",
        "\n",
        "\n",
        "``a = 7``\n",
        "\n",
        "``a = 2 * a``\n",
        "\n",
        "``print( a )\n",
        "``\n",
        "\n",
        "we would have an output of ``14``. The variable ``a`` is now equal to 14 instead of its original 7. This is where we need to note that the ``=`` in Python is not an equals sign like you see in a math class; it's an **assignment operator**, in that it tells Python to compute the math on the right and **assign** that value to the variable ``a``. **It doesn't matter if ``a`` is used on both sides**, since Python can just overwrite the previous value of ``a``. Think of this as like saving a new version of a document: You don't need the old version anymore, so your computer uses the same filename to save the new version.\n",
        "\n",
        "Run the next code cell to see another example of variable reassignment."
      ]
    },
    {
      "cell_type": "code",
      "execution_count": null,
      "metadata": {
        "id": "9-FFpIwYXV-4"
      },
      "outputs": [],
      "source": [
        "# Take the number we want to work with and store it\n",
        "# under the name a.\n",
        "a = 4\n",
        "\n",
        "output = a\n",
        "print( output )\n",
        "\n",
        "output = output * a\n",
        "print( output )\n",
        "\n",
        "output = output * a\n",
        "print( output )\n",
        "\n",
        "output = output * a\n",
        "print( output )"
      ]
    },
    {
      "cell_type": "markdown",
      "metadata": {
        "id": "2QUYXZk9XV-4"
      },
      "source": [
        "## Checkpoint\n",
        "How does the code cell above change the value of ``output``? Does the value of ``a`` ever change?\n",
        "\n",
        "How is this code cell more convenient than the one where we were multiplying ``a`` by itself repeatedly? (For example: How easy would it be to arrive at the next power of ``a``?)\n",
        "\n",
        "How could you use this type of variable reassignment to calculate the factorial of 6?"
      ]
    },
    {
      "cell_type": "markdown",
      "metadata": {
        "id": "-rp0sdg6XV-7"
      },
      "source": [
        "## Common errors to watch for.\n",
        "~~Sometimes~~ Inevitably, when preparing a code, we make mistakes. These mistakes might be physics errors (such as entering the wrong formula) or simply typing errors that cause the code to fail. This is okay. No one writes an essay perfectly the first time, and no one writes a code perfectly the first time. Fortunately, Python tries to help us find these mistakes through **error messages**.\n",
        "\n",
        "Think of an error message as feedback. The message is meant to show you approximately where the error is located in the code and what Python was trying to do when the error occured. Sometimes Python's error messages will tell you exactly what you need to fix; other times, you'll have to dig around. But either way, the goal is to help make your code better.\n",
        "\n",
        "For example, while preparing this tutorial, I received the following error message:\n",
        "\n",
        "\n",
        "`` print( 1 + 1/1 * 1/2 * 1 * (2-1) - 1/2 * 1/2 * 1/2 * 1 * (2-1)*(2-1)``\n",
        "\n",
        "``SyntaxError: unexpected EOF while parsing``\n",
        "\n",
        "Python printed a line of code for me to tell me that this was the line it was trying to carry out when the error occured. Then Python gave me a message, written in a bit of computer-ese. ``EOF`` here means \"end of file,\" which Python found to be ``unexpected``. In other words, **I'm missing something.** If I look carefully over the line of code that Python printed, **I see that I'm missing a ``)`` to close out the print command.** This happens to me all the time! It just means I was distracted and thought I was done with this line of code when I really needed one more thing. So, I added the ``)`` character and the code ran fine!\n",
        "\n",
        "You will learn to interpret error messages and fix errors through experience. There isn't really a formal way for us to **teach** this process to you other than to provide feedback when an error message arises. So, when you recieve an error message, try the following:\n",
        "\n",
        "1. Read the message and try to extract whatever meaning you can. Look at the name of the error, and any feedback that Python is providing you.\n",
        "2. Go to the line referenced by the error message and see if there's something you missed. This is like proofreading a written document; pretend like you're reading it for the first time, and if something doesn't make sense, it might be a problem! You might need to look in the line before or the line after the line that Python referenced. (By the way, to see your line numbers in Jupyter notebook, click on the View menu, and then Toggle Line Numbers.)\n",
        "3. Save a backup of your code, and try to fix the error. You can't possibly make it any worse!\n",
        "4. If that doesn't work, try googling the error message. **You are not the first person this has happened to** and the answer is probably documented somewhere on-line.\n",
        "5. Head onto Teams and ask your instructors and colleagues to look over your code. Again, you're not the first person to see this error, and they can likely help!\n",
        "\n",
        "# Checkpoint: You try.\n",
        "Each of the two code cells below has an error. Find the error, and fix it. "
      ]
    },
    {
      "cell_type": "code",
      "execution_count": null,
      "metadata": {
        "id": "izZctsAjXV-7"
      },
      "outputs": [],
      "source": [
        "# Print the odd numbers between 1 and 10.\n",
        "\n",
        "OddNumber = 1\n",
        "\n",
        "print(oddNumber)\n",
        "# The next line introduces a new symbol: += adds a number to a variable and assigns the new value to the variable name.\n",
        "# So, x += 1 is equivalent to x = x + 1.\n",
        "oddNumber += 2\n",
        "print(oddNumber)\n",
        "oddNumber += 2\n",
        "print(oddNumber)\n",
        "oddNumber += 2\n",
        "print(oddNumber)\n",
        "oddNumber += 2\n",
        "print(oddNumber)\n",
        "\n",
        "print('finished')"
      ]
    },
    {
      "cell_type": "code",
      "execution_count": null,
      "metadata": {
        "id": "NHYDRYiLXV-8"
      },
      "outputs": [],
      "source": [
        "# Calculate the average of three numbers a, b, and c.\n",
        "\n",
        "a = 3\n",
        "b = 7\n",
        "c = 10\n",
        "\n",
        "average = (a + b + c / 3\n",
        "print(average)"
      ]
    },
    {
      "cell_type": "markdown",
      "metadata": {
        "id": "hU5gsM5HKrDE"
      },
      "source": [
        "# Python can handle complex numbers\n",
        "\n",
        "The models in quantum mechanics require the use of **complex numbers**. These are numbers that involve $j = \\sqrt{-1}$, which your students might have seen previously in a mathematics course. (You and your students likely used $i$ instead of $j$, but Python uses `j` becuase it is an engineering convention, so we'll keep this worksheet consistent by using $j$.) If you haven't worked with complex numbers in a while, the links below will help you refresh on the topic, but here are the basics:\n",
        "\n",
        "* A **complex number** $z$ can be written as $z = x + jy$. We call $x$ the **real part** of $z$ and $y$ the **imaginary part** of $z$.\n",
        "* Two complex numbers are equal if and only if their real parts are equal and their imaginary parts are equal. So, if $z_1 = z_2$, then $x_1 = x_2$ and $y_1 = y_2$.\n",
        "* Every complex number $z$ has a **complex conjugate**. The complex conjugate $z^*$ is the number with an equal real part and an imaginary part equal in magnitude but opposite in sign. The complex conjugate of $z = x + jy$ is $z^* = x - j y$.\n",
        "* Every complex number has a **modulus** $|z|$, defined as $|z| = \\sqrt{z^* z}$, which is equivalent to $|z| = \\sqrt{(x + jy)(x-jy)}$ or  $|z| = \\sqrt{x^2 + y^2}$. If you notice that this looks like the Pythagorean theorem, it's because this **is** the Pythagorean theorem! Complex numbers map perfectly onto two-dimensional vectors, and $|z|$ represents the magnitude, or distance, from the origin of the complex plane.\n",
        "\n",
        "This tutorial from [MathBitsNotebook.com](https://mathbitsnotebook.com/Algebra2/ComplexNumbers/CPGraphs.html) reviews graphical representations of complex numbers on the complex plane.\n",
        "\n",
        "Python knows how to handle complex numbers. Read and run the code below to learn how."
      ]
    },
    {
      "cell_type": "code",
      "execution_count": null,
      "metadata": {
        "id": "2x1MlfJkNHvE"
      },
      "outputs": [],
      "source": [
        "import numpy as np # Import the library that can handle complex number operations.\n",
        "\n",
        "# You can set a complex number like so:\n",
        "z = 3-2j # Notice there's no multiplication asterisk between the imaginary part and the j.\n",
        "print('What does a complex number look like?',z)\n",
        "\n",
        "# Now try some operations.\n",
        "z1 = 1+1j\n",
        "z2 = 1-2j\n",
        "print('addition:',z1+z2)\n",
        "print('subtraction:',z1-z2)\n",
        "print('multiplication:',z1*z2)\n",
        "print('real part',np.real(z1))\n",
        "print('imaginary part',np.imag(z1))\n",
        "print('complex conjuage',np.conj(z1))\n",
        "print('modulus',np.abs(z1))\n"
      ]
    },
    {
      "cell_type": "markdown",
      "metadata": {
        "id": "e5RnkGaIOfeq"
      },
      "source": [
        "Carry out the operations above by hand, and confirm you arrive at the same results. For the multiplication step, just distribute one binomial to each part of the other binomial and remember that $j^2 = -1$!\n",
        "\n",
        "Change the values of $z1$ and $z2$ to accomplish each of the following:\n",
        "* Create a pair of complex numbers that have a sum of $8$ and a difference of $2j$.\n",
        "* Create a pair of complex numbers that have a sum of $8$ and a product of $20$.\n",
        "* Create a pair of complex numbers that have the same modulus and a sum of $2j$."
      ]
    },
    {
      "cell_type": "markdown",
      "metadata": {
        "id": "Od1JdUL3n9Qi"
      },
      "source": [
        "# An array is a variable with lots of values\n",
        "\n",
        "Let's suppose you had a class of 30 first-graders, and you wanted to record each of their heights at the beginning of the semester for a class science project. \n",
        "\n",
        "You *could* store this information like so:\n",
        "\n",
        "`BethInitialHeight = 42`\n",
        "\n",
        "`DavidInitialHeight = 45`\n",
        "\n",
        "`DominiqueInitialHeight = 46`\n",
        "\n",
        "`TanishaIniitalHeight = 43`\n",
        "\n",
        "`...`\n",
        "\n",
        "taking up 30 lines to set up your data. If you wanted to repeat this project next school year, you would presumably need to change all these variable names... Time consuming. It doesn't get much better if you use numbers instead, since you'd still have 30 lines like\n",
        "\n",
        "`InitialHeight1 = 42`\n",
        "\n",
        "`InitialHeight2 = 45`\n",
        "\n",
        "`InitialHeight3 = 46`\n",
        "\n",
        "`IniitalHeight4 = 43`\n",
        "\n",
        "`...``\n",
        "\n",
        "and you would need to type out each one any time you wanted to calculate an average, create a bar graph, etc.\n",
        "\n",
        "You would likely find it more convenient to store this data set in an **array**. The following code cell sets up an array of student height data."
      ]
    },
    {
      "cell_type": "code",
      "execution_count": null,
      "metadata": {
        "id": "wGcg-f8On9Qi"
      },
      "outputs": [],
      "source": [
        "import numpy as np # Import the numpy library, where arrays live.\n",
        "\n",
        "# Create an array with the listed elements.\n",
        "StudentHeights = np.array([42,45,46,43,41,48,40,44,47,42,45,43,41,42])\n",
        "\n",
        "# Print some information.\n",
        "print('the whole array is',StudentHeights)\n",
        "print('second element is',StudentHeights[1])\n",
        "print('elements 3 through 6 are',StudentHeights[3:7])\n"
      ]
    },
    {
      "cell_type": "markdown",
      "metadata": {
        "id": "REyI1I5Bn9Qj"
      },
      "source": [
        "## Checkpoint\n",
        "\n",
        "Describe the printed output of this cell. What information does each printed line tell you? How does the code tell Python to produce this output?\n",
        "\n",
        "Modify the code cell above to show you elements 3 through 13 of the array.\n",
        "\n",
        "An important thing to notice about Python arrays is that **they begin counting at 0 instead of 1**. What happens when you ask for ``StudentHeights[0]``?"
      ]
    },
    {
      "cell_type": "markdown",
      "metadata": {
        "id": "zp5PrbpCn9Qp"
      },
      "source": [
        "## Common errors to watch for.\n",
        "\n",
        "The most common error people run into with arrays is **asking Python for an index that isn't there**. Where does this error occur in the code cell below? How can you tell?"
      ]
    },
    {
      "cell_type": "code",
      "execution_count": null,
      "metadata": {
        "id": "v7TFuB7Vn9Qp"
      },
      "outputs": [],
      "source": [
        "import numpy as np\n",
        "\n",
        "# Look at https://numpy.org/doc/stable/reference/generated/numpy.linspace.html to learn about linspace.\n",
        "ArrayA = np.linspace(0,1,100)\n",
        "ArrayB = np.linspace(1,2,50)\n",
        "print(ArrayA)\n",
        "print(ArrayB)\n",
        "ArrayA[0] = ArrayA[0] + ArrayB[0]\n",
        "\n",
        "ArrayA[30] = ArrayB[31]**2\n",
        "\n",
        "ArrayA[60] = ArrayB[39] / ArrayB[10]"
      ]
    },
    {
      "cell_type": "markdown",
      "metadata": {
        "id": "CjD7rRjMBT_x"
      },
      "source": [
        "# Line Plots\n",
        "\n",
        "The most popular way to graph data in Python is with the Matplotlib library. If you have values for one variable in an array ``x`` and the values for another variable in an array ``y``, you can create a graph of ``y`` versus ``x`` with a simple plot using Matplotlib's ``plot`` command, like so:"
      ]
    },
    {
      "cell_type": "code",
      "execution_count": null,
      "metadata": {
        "id": "WRc5KnYbBT_y"
      },
      "outputs": [],
      "source": [
        "import numpy as np # Import numpy library.\n",
        "import matplotlib.pyplot as plt # Import Matplotlib's pyplot library.\n",
        "# Show plotting results in the output.\n",
        "%matplotlib inline \n",
        "\n",
        "# Generate data arrays.\n",
        "x = np.linspace(-4,4,100)\n",
        "y = np.exp(-x**2)\n",
        "\n",
        "# Create a figure.\n",
        "MyFigure, MyPlot = plt.subplots()\n",
        "\n",
        "# Plot data.\n",
        "MyPlot.plot(x,y)\n"
      ]
    },
    {
      "cell_type": "markdown",
      "metadata": {
        "id": "mQ_WTv68BT_0"
      },
      "source": [
        "## Checkpoint\n",
        "\n",
        "How are the data values created in the code cell above?\n",
        "\n",
        "``plot`` takes two arrays as inputs: Which one is assigned to each axis of the graph?\n",
        "\n",
        "In the code cell above, create a third data set ``z = np.exp(-(x-2)**2)`` and add a second ``MyPlot.plot`` command to graph ``z`` versus ``x``. Run the code cell. What happens?"
      ]
    },
    {
      "cell_type": "markdown",
      "metadata": {
        "id": "41A6q1JcBT_1"
      },
      "source": [
        "## There are more graphing commands\n",
        "\n",
        "The ``plot()`` command gives you the most important thing you need: A graph with the data that you provided. But we usually need to add some formatting when presenting a graph to others. Google search each of the following functions to learn about it, then try it out in the code cell above. What do they each do? Why is this feature important when sharing a graph with others?\n",
        "\n",
        "* ``set()``\n",
        "* ``legend()`` $\\rightarrow$ Where can you specify the text labels for your legend?\n"
      ]
    },
    {
      "cell_type": "markdown",
      "metadata": {
        "id": "-LQ3RzsJBT_4"
      },
      "source": [
        "## Common errors to watch for\n",
        "\n",
        "The most common error I encounter with graphing data in Python is accidentally trying to graph data arrays of different sizes. How does the error message indicate this if you run the code cell below?"
      ]
    },
    {
      "cell_type": "code",
      "execution_count": null,
      "metadata": {
        "id": "O9cG1WZ3BT_5"
      },
      "outputs": [],
      "source": [
        "import numpy as np # Import numpy library.\n",
        "import matplotlib.pyplot as plt # Import Matplotlib's pyplot library.\n",
        "# Show plotting results in the output.\n",
        "%matplotlib inline \n",
        "\n",
        "# Generate data arrays.\n",
        "x = np.array( [ 1, 2, 3, 4, 5, 6, 7, 8,])\n",
        "y = np.array( [ 1, 4, 9, 16, 25, 36, 49, 64 ] )\n",
        "\n",
        "# Create a figure.\n",
        "MyFigure, MyPlot = plt.subplots()\n",
        "\n",
        "# Plot data.\n",
        "MyPlot.plot(x,y)\n"
      ]
    },
    {
      "cell_type": "markdown",
      "metadata": {
        "id": "XcdJNnvDigNn"
      },
      "source": [
        "# Bar Plots\n",
        "\n",
        "We'll also use Matplotlib's bar plot command. \n",
        "\n",
        "Run the code cell below and describe what each line does. \n",
        "\n",
        "How is the ``bar`` function similar to ``plot``? How are they different?"
      ]
    },
    {
      "cell_type": "code",
      "execution_count": null,
      "metadata": {
        "id": "toEbWOffs7ih"
      },
      "outputs": [],
      "source": [
        "import numpy as np \n",
        "import matplotlib.pyplot as plt \n",
        "%matplotlib inline \n",
        "\n",
        "Names = np.array(['Megan','Julie','Sam'])\n",
        "Heights = np.array([5.5,5.75,5.4])\n",
        "\n",
        "# Create a figure.\n",
        "MyFigure, MyPlot = plt.subplots()\n",
        "\n",
        "# Plot data.\n",
        "MyPlot.bar(Names,Heights)\n"
      ]
    },
    {
      "cell_type": "markdown",
      "metadata": {
        "id": "3Szd7QKWwI3T"
      },
      "source": [
        "# Discussion Questions\n",
        "\n",
        "Create a new markdown cell and answer the following questions below.\n",
        "\n",
        "1. [Question #1] - What do you think of the Jupyter notebook environment? \n",
        "2. [Question #2] - What do you think of using a programming language like Python to help you learn physics and become prepared for a STEM career? \n",
        "3. [Question #3] - How would you adapt for use for your IA?\n",
        "4. [Question #4]  - What do you want to learn next?"
      ]
    },
    {
      "cell_type": "markdown",
      "metadata": {},
      "source": []
    }
  ],
  "metadata": {
    "colab": {
      "collapsed_sections": [],
      "include_colab_link": true,
      "name": "Cardozo_Module 1 - Intro to Jupyter.ipynb",
      "provenance": []
    },
    "kernelspec": {
      "display_name": "Python 3",
      "name": "python3"
    },
    "language_info": {
      "name": "python"
    }
  },
  "nbformat": 4,
  "nbformat_minor": 0
}
